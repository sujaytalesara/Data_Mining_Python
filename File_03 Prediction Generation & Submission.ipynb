{
 "cells": [
  {
   "cell_type": "code",
   "execution_count": 2,
   "metadata": {},
   "outputs": [],
   "source": [
    "import pandas as pd\n",
    "import numpy as np\n",
    "import matplotlib.pyplot as plt\n",
    "import plotly.offline as pyo\n",
    "import seaborn as sns\n",
    "from sklearn.preprocessing import MinMaxScaler"
   ]
  },
  {
   "cell_type": "code",
   "execution_count": 5,
   "metadata": {},
   "outputs": [],
   "source": [
    "df_main = pd.read_csv('E:/Kaggle/Water_Table/Test_set_values.csv', index_col = 0)"
   ]
  },
  {
   "cell_type": "markdown",
   "metadata": {},
   "source": [
    "## Handling Missing Values :"
   ]
  },
  {
   "cell_type": "code",
   "execution_count": 6,
   "metadata": {},
   "outputs": [],
   "source": [
    "# Replacing 0 with NaN :\n",
    "df_main['gps_height'].replace(0.0, np.nan, inplace=True)\n",
    "df_main['population'].replace(0.0, np.nan, inplace=True)\n",
    "df_main['amount_tsh'].replace(0.0, np.nan, inplace=True)\n",
    "features = ['gps_height', 'population', 'amount_tsh']"
   ]
  },
  {
   "cell_type": "code",
   "execution_count": 7,
   "metadata": {},
   "outputs": [
    {
     "data": {
      "text/plain": [
       "gps_height     5211\n",
       "population     5453\n",
       "amount_tsh    10410\n",
       "dtype: int64"
      ]
     },
     "execution_count": 7,
     "metadata": {},
     "output_type": "execute_result"
    }
   ],
   "source": [
    "# Total NaNs\n",
    "df_main[features].isnull().sum()"
   ]
  },
  {
   "cell_type": "markdown",
   "metadata": {},
   "source": [
    "\n",
    "The 3 variables with NaN can be replaced with means since they are int types and their mean values will make sence - amount_tsh , gps_height ,population."
   ]
  },
  {
   "cell_type": "code",
   "execution_count": 8,
   "metadata": {},
   "outputs": [],
   "source": [
    "df_main['amount_tsh'].fillna( df_main.groupby(['region', 'district_code'])['amount_tsh'].transform('mean'), inplace = True)\n",
    "df_main['amount_tsh'].fillna( df_main.groupby(['region'])['amount_tsh'].transform('mean'), inplace = True)\n",
    "df_main['amount_tsh'].fillna( df_main['amount_tsh'].mean(), inplace = True)\n",
    "\n",
    "\n",
    "df_main['gps_height'].fillna( df_main.groupby(['region', 'district_code'])['amount_tsh'].transform('mean'), inplace = True)\n",
    "df_main['gps_height'].fillna( df_main.groupby(['region'])['amount_tsh'].transform('mean'), inplace = True)\n",
    "df_main['gps_height'].fillna( df_main['amount_tsh'].mean(), inplace = True)\n",
    "\n",
    "df_main['population'].fillna( df_main.groupby(['region', 'district_code'])['amount_tsh'].transform('mean'), inplace = True)\n",
    "df_main['population'].fillna( df_main.groupby(['region'])['amount_tsh'].transform('mean'), inplace = True)\n",
    "df_main['population'].fillna( df_main['amount_tsh'].mean(), inplace = True)\n",
    "\n",
    "#df_main.isnull().sum()\n",
    "#val = df_main.groupby(['region', 'district_code'])['amount_tsh'].transform('mean')\n",
    "#val.head()"
   ]
  },
  {
   "cell_type": "code",
   "execution_count": 9,
   "metadata": {},
   "outputs": [],
   "source": [
    "# Scalering the 3 features\n",
    "features = ['amount_tsh', 'gps_height', 'population']\n",
    "scaler = MinMaxScaler(feature_range = (0,20))\n",
    "df_main[features] = scaler.fit_transform(df_main[features])\n"
   ]
  },
  {
   "cell_type": "code",
   "execution_count": 10,
   "metadata": {},
   "outputs": [
    {
     "name": "stdout",
     "output_type": "stream",
     "text": [
      "0.0\n",
      "-11.56459195\n",
      "0\n"
     ]
    }
   ],
   "source": [
    "# Finding NaNs\n",
    "print(df_main['longitude'].min())\n",
    "print(df_main['latitude'].min())\n",
    "print(df_main['construction_year'].min())"
   ]
  },
  {
   "cell_type": "code",
   "execution_count": 11,
   "metadata": {},
   "outputs": [
    {
     "data": {
      "text/plain": [
       "longitude             457\n",
       "latitude                0\n",
       "construction_year    5260\n",
       "dtype: int64"
      ]
     },
     "execution_count": 11,
     "metadata": {},
     "output_type": "execute_result"
    }
   ],
   "source": [
    "df_main['longitude'].replace(0.0, np.nan, inplace = True)\n",
    "df_main['latitude'].replace(0.0, np.nan, inplace = True)\n",
    "df_main['construction_year'].replace(0.0, np.nan, inplace = True)\n",
    "\n",
    "feature = ['longitude', 'latitude', 'construction_year']\n",
    "df_main[feature].isnull().sum()"
   ]
  },
  {
   "cell_type": "code",
   "execution_count": 12,
   "metadata": {},
   "outputs": [
    {
     "data": {
      "text/plain": [
       "longitude            0\n",
       "latitude             0\n",
       "construction_year    0\n",
       "dtype: int64"
      ]
     },
     "execution_count": 12,
     "metadata": {},
     "output_type": "execute_result"
    }
   ],
   "source": [
    "df_main['longitude'].fillna(df_main.groupby(['region','district_code'])['longitude'].transform('mean'), inplace = True)\n",
    "df_main['longitude'].fillna(df_main.groupby(['region'])['longitude'].transform('mean'), inplace = True)\n",
    "\n",
    "df_main['construction_year'].fillna(df_main.groupby(['region','district_code'])['construction_year'].transform('median'), inplace = True)\n",
    "df_main['construction_year'].fillna(df_main.groupby(['region'])['construction_year'].transform('median'), inplace = True)\n",
    "df_main['construction_year'].fillna(df_main['construction_year'].median(), inplace = True)\n",
    "\n",
    "df_main[feature].isnull().sum()"
   ]
  },
  {
   "cell_type": "code",
   "execution_count": 13,
   "metadata": {},
   "outputs": [],
   "source": [
    "df_main['operational_year'] = (pd.DatetimeIndex(df_main['date_recorded']).year ) - df_main.construction_year "
   ]
  },
  {
   "cell_type": "markdown",
   "metadata": {},
   "source": [
    "## Data Cleaning"
   ]
  },
  {
   "cell_type": "code",
   "execution_count": 14,
   "metadata": {},
   "outputs": [],
   "source": [
    "waste_features = ['recorded_by', 'payment','quantity','subvillage','num_private','construction_year', 'date_recorded']\n",
    "df_clean = pd.DataFrame.copy(df_main)\n",
    "df_clean.drop(waste_features, axis = 1, inplace = True)"
   ]
  },
  {
   "cell_type": "code",
   "execution_count": 15,
   "metadata": {},
   "outputs": [],
   "source": [
    "df_clean.drop('management_group', axis = 1, inplace = True)\n",
    "df_clean.drop('extraction_type_group', axis = 1 , inplace = True)\n",
    "df_clean.drop('region', axis = 1, inplace = True)\n",
    "df_clean.drop('source_type', axis = 1, inplace = True)\n",
    "df_clean.drop('funder', axis = 1 , inplace = True)\n",
    "df_clean.drop('waterpoint_type_group', axis = 1, inplace = True)\n",
    "df_clean.drop('scheme_name', axis = 1, inplace = True)\n",
    "df_clean.drop('quality_group', axis = 1, inplace = True)\n",
    "df_clean.drop('ward', axis = 1 , inplace = True)\n",
    "\n"
   ]
  },
  {
   "cell_type": "code",
   "execution_count": 16,
   "metadata": {},
   "outputs": [
    {
     "name": "stdout",
     "output_type": "stream",
     "text": [
      "<class 'pandas.core.frame.DataFrame'>\n",
      "Int64Index: 14850 entries, 50785 to 68707\n",
      "Data columns (total 24 columns):\n",
      "amount_tsh               14850 non-null float64\n",
      "gps_height               14850 non-null float64\n",
      "installer                14850 non-null object\n",
      "longitude                14850 non-null float64\n",
      "latitude                 14850 non-null float64\n",
      "wpt_name                 14850 non-null object\n",
      "basin                    14850 non-null object\n",
      "region_code              14850 non-null int64\n",
      "district_code            14850 non-null int64\n",
      "lga                      14850 non-null object\n",
      "population               14850 non-null float64\n",
      "public_meeting           14850 non-null object\n",
      "scheme_management        14850 non-null object\n",
      "permit                   14850 non-null object\n",
      "extraction_type          14850 non-null object\n",
      "extraction_type_class    14850 non-null object\n",
      "management               14850 non-null object\n",
      "payment_type             14850 non-null object\n",
      "water_quality            14850 non-null object\n",
      "quantity_group           14850 non-null object\n",
      "source                   14850 non-null object\n",
      "source_class             14850 non-null object\n",
      "waterpoint_type          14850 non-null object\n",
      "operational_year         14850 non-null float64\n",
      "dtypes: float64(6), int64(2), object(16)\n",
      "memory usage: 2.8+ MB\n"
     ]
    }
   ],
   "source": [
    "df_clean['installer'].fillna('others', inplace = True)\n",
    "df_clean['public_meeting'].fillna('others', inplace = True)\n",
    "df_clean['scheme_management'].fillna('others', inplace = True)\n",
    "df_clean['permit'].fillna('others', inplace = True)\n",
    "\n",
    "df_clean.isnull().sum()\n",
    "df_clean.info()"
   ]
  },
  {
   "cell_type": "code",
   "execution_count": 17,
   "metadata": {},
   "outputs": [],
   "source": [
    "df_clean.columns = map(str.lower, df_clean.columns)"
   ]
  },
  {
   "cell_type": "code",
   "execution_count": 20,
   "metadata": {},
   "outputs": [],
   "source": [
    "df_clean['installer'] = pd.factorize(df_clean['installer'])[0]\n",
    "df_clean['wpt_name'] = pd.factorize(df_clean['wpt_name'])[0]\n",
    "df_clean['basin'] = pd.factorize(df_clean['basin'])[0]\n",
    "df_clean['lga'] = pd.factorize(df_clean['lga'])[0]\n",
    "df_clean['public_meeting'] = pd.factorize(df_clean['public_meeting'])[0]\n",
    "df_clean['scheme_management'] = pd.factorize(df_clean['scheme_management'])[0]\n",
    "df_clean['extraction_type'] = pd.factorize(df_clean['extraction_type'])[0]\n",
    "df_clean['extraction_type_class'] = pd.factorize(df_clean['extraction_type_class'])[0]\n",
    "df_clean['management'] = pd.factorize(df_clean['management'])[0]\n",
    "df_clean['payment_type'] = pd.factorize(df_clean['payment_type'])[0]\n",
    "df_clean['water_quality'] = pd.factorize(df_clean['water_quality'])[0]\n",
    "df_clean['quantity_group'] = pd.factorize(df_clean['quantity_group'])[0]\n",
    "df_clean['source'] = pd.factorize(df_clean['source'])[0]\n",
    "df_clean['source_class'] = pd.factorize(df_clean['source_class'])[0]\n",
    "df_clean['waterpoint_type'] = pd.factorize(df_clean['waterpoint_type'])[0]\n",
    "df_clean['permit'] = pd.factorize(df_clean['region_code'])[0]\n"
   ]
  },
  {
   "cell_type": "code",
   "execution_count": 21,
   "metadata": {
    "scrolled": true
   },
   "outputs": [
    {
     "data": {
      "text/html": [
       "<div>\n",
       "<style scoped>\n",
       "    .dataframe tbody tr th:only-of-type {\n",
       "        vertical-align: middle;\n",
       "    }\n",
       "\n",
       "    .dataframe tbody tr th {\n",
       "        vertical-align: top;\n",
       "    }\n",
       "\n",
       "    .dataframe thead th {\n",
       "        text-align: right;\n",
       "    }\n",
       "</style>\n",
       "<table border=\"1\" class=\"dataframe\">\n",
       "  <thead>\n",
       "    <tr style=\"text-align: right;\">\n",
       "      <th></th>\n",
       "      <th>amount_tsh</th>\n",
       "      <th>gps_height</th>\n",
       "      <th>installer</th>\n",
       "      <th>longitude</th>\n",
       "      <th>latitude</th>\n",
       "      <th>wpt_name</th>\n",
       "      <th>basin</th>\n",
       "      <th>region_code</th>\n",
       "      <th>district_code</th>\n",
       "      <th>lga</th>\n",
       "      <th>...</th>\n",
       "      <th>extraction_type</th>\n",
       "      <th>extraction_type_class</th>\n",
       "      <th>management</th>\n",
       "      <th>payment_type</th>\n",
       "      <th>water_quality</th>\n",
       "      <th>quantity_group</th>\n",
       "      <th>source</th>\n",
       "      <th>source_class</th>\n",
       "      <th>waterpoint_type</th>\n",
       "      <th>operational_year</th>\n",
       "    </tr>\n",
       "    <tr>\n",
       "      <th>id</th>\n",
       "      <th></th>\n",
       "      <th></th>\n",
       "      <th></th>\n",
       "      <th></th>\n",
       "      <th></th>\n",
       "      <th></th>\n",
       "      <th></th>\n",
       "      <th></th>\n",
       "      <th></th>\n",
       "      <th></th>\n",
       "      <th></th>\n",
       "      <th></th>\n",
       "      <th></th>\n",
       "      <th></th>\n",
       "      <th></th>\n",
       "      <th></th>\n",
       "      <th></th>\n",
       "      <th></th>\n",
       "      <th></th>\n",
       "      <th></th>\n",
       "      <th></th>\n",
       "    </tr>\n",
       "  </thead>\n",
       "  <tbody>\n",
       "    <tr>\n",
       "      <td>50785</td>\n",
       "      <td>0.770266</td>\n",
       "      <td>14.488356</td>\n",
       "      <td>0</td>\n",
       "      <td>35.290799</td>\n",
       "      <td>-4.059696</td>\n",
       "      <td>0</td>\n",
       "      <td>0</td>\n",
       "      <td>21</td>\n",
       "      <td>3</td>\n",
       "      <td>0</td>\n",
       "      <td>...</td>\n",
       "      <td>0</td>\n",
       "      <td>0</td>\n",
       "      <td>0</td>\n",
       "      <td>0</td>\n",
       "      <td>0</td>\n",
       "      <td>0</td>\n",
       "      <td>0</td>\n",
       "      <td>0</td>\n",
       "      <td>0</td>\n",
       "      <td>1.0</td>\n",
       "    </tr>\n",
       "    <tr>\n",
       "      <td>51630</td>\n",
       "      <td>0.132480</td>\n",
       "      <td>11.474947</td>\n",
       "      <td>1</td>\n",
       "      <td>36.656709</td>\n",
       "      <td>-3.309214</td>\n",
       "      <td>1</td>\n",
       "      <td>1</td>\n",
       "      <td>2</td>\n",
       "      <td>2</td>\n",
       "      <td>1</td>\n",
       "      <td>...</td>\n",
       "      <td>1</td>\n",
       "      <td>1</td>\n",
       "      <td>1</td>\n",
       "      <td>0</td>\n",
       "      <td>0</td>\n",
       "      <td>1</td>\n",
       "      <td>1</td>\n",
       "      <td>1</td>\n",
       "      <td>1</td>\n",
       "      <td>13.0</td>\n",
       "    </tr>\n",
       "    <tr>\n",
       "      <td>17168</td>\n",
       "      <td>0.144076</td>\n",
       "      <td>11.460833</td>\n",
       "      <td>2</td>\n",
       "      <td>34.767863</td>\n",
       "      <td>-5.004344</td>\n",
       "      <td>2</td>\n",
       "      <td>0</td>\n",
       "      <td>13</td>\n",
       "      <td>2</td>\n",
       "      <td>2</td>\n",
       "      <td>...</td>\n",
       "      <td>0</td>\n",
       "      <td>0</td>\n",
       "      <td>1</td>\n",
       "      <td>0</td>\n",
       "      <td>0</td>\n",
       "      <td>1</td>\n",
       "      <td>0</td>\n",
       "      <td>0</td>\n",
       "      <td>0</td>\n",
       "      <td>3.0</td>\n",
       "    </tr>\n",
       "    <tr>\n",
       "      <td>45559</td>\n",
       "      <td>0.039813</td>\n",
       "      <td>2.286521</td>\n",
       "      <td>3</td>\n",
       "      <td>38.058046</td>\n",
       "      <td>-9.418672</td>\n",
       "      <td>3</td>\n",
       "      <td>2</td>\n",
       "      <td>80</td>\n",
       "      <td>43</td>\n",
       "      <td>3</td>\n",
       "      <td>...</td>\n",
       "      <td>0</td>\n",
       "      <td>0</td>\n",
       "      <td>1</td>\n",
       "      <td>1</td>\n",
       "      <td>0</td>\n",
       "      <td>2</td>\n",
       "      <td>2</td>\n",
       "      <td>1</td>\n",
       "      <td>0</td>\n",
       "      <td>26.0</td>\n",
       "    </tr>\n",
       "    <tr>\n",
       "      <td>49871</td>\n",
       "      <td>0.049980</td>\n",
       "      <td>9.294284</td>\n",
       "      <td>4</td>\n",
       "      <td>35.006123</td>\n",
       "      <td>-10.950412</td>\n",
       "      <td>4</td>\n",
       "      <td>2</td>\n",
       "      <td>10</td>\n",
       "      <td>3</td>\n",
       "      <td>4</td>\n",
       "      <td>...</td>\n",
       "      <td>1</td>\n",
       "      <td>1</td>\n",
       "      <td>2</td>\n",
       "      <td>2</td>\n",
       "      <td>0</td>\n",
       "      <td>3</td>\n",
       "      <td>1</td>\n",
       "      <td>1</td>\n",
       "      <td>1</td>\n",
       "      <td>13.0</td>\n",
       "    </tr>\n",
       "  </tbody>\n",
       "</table>\n",
       "<p>5 rows × 24 columns</p>\n",
       "</div>"
      ],
      "text/plain": [
       "       amount_tsh  gps_height  installer  longitude   latitude  wpt_name  \\\n",
       "id                                                                         \n",
       "50785    0.770266   14.488356          0  35.290799  -4.059696         0   \n",
       "51630    0.132480   11.474947          1  36.656709  -3.309214         1   \n",
       "17168    0.144076   11.460833          2  34.767863  -5.004344         2   \n",
       "45559    0.039813    2.286521          3  38.058046  -9.418672         3   \n",
       "49871    0.049980    9.294284          4  35.006123 -10.950412         4   \n",
       "\n",
       "       basin  region_code  district_code  lga  ...  extraction_type  \\\n",
       "id                                             ...                    \n",
       "50785      0           21              3    0  ...                0   \n",
       "51630      1            2              2    1  ...                1   \n",
       "17168      0           13              2    2  ...                0   \n",
       "45559      2           80             43    3  ...                0   \n",
       "49871      2           10              3    4  ...                1   \n",
       "\n",
       "       extraction_type_class  management  payment_type  water_quality  \\\n",
       "id                                                                      \n",
       "50785                      0           0             0              0   \n",
       "51630                      1           1             0              0   \n",
       "17168                      0           1             0              0   \n",
       "45559                      0           1             1              0   \n",
       "49871                      1           2             2              0   \n",
       "\n",
       "       quantity_group  source  source_class  waterpoint_type  operational_year  \n",
       "id                                                                              \n",
       "50785               0       0             0                0               1.0  \n",
       "51630               1       1             1                1              13.0  \n",
       "17168               1       0             0                0               3.0  \n",
       "45559               2       2             1                0              26.0  \n",
       "49871               3       1             1                1              13.0  \n",
       "\n",
       "[5 rows x 24 columns]"
      ]
     },
     "execution_count": 21,
     "metadata": {},
     "output_type": "execute_result"
    }
   ],
   "source": [
    "df_clean.head()"
   ]
  },
  {
   "cell_type": "code",
   "execution_count": 23,
   "metadata": {},
   "outputs": [
    {
     "data": {
      "text/plain": [
       "amount_tsh               0\n",
       "gps_height               0\n",
       "installer                0\n",
       "longitude                0\n",
       "latitude                 0\n",
       "wpt_name                 0\n",
       "basin                    0\n",
       "region_code              0\n",
       "district_code            0\n",
       "lga                      0\n",
       "population               0\n",
       "public_meeting           0\n",
       "scheme_management        0\n",
       "permit                   0\n",
       "extraction_type          0\n",
       "extraction_type_class    0\n",
       "management               0\n",
       "payment_type             0\n",
       "water_quality            0\n",
       "quantity_group           0\n",
       "source                   0\n",
       "source_class             0\n",
       "waterpoint_type          0\n",
       "operational_year         0\n",
       "dtype: int64"
      ]
     },
     "execution_count": 23,
     "metadata": {},
     "output_type": "execute_result"
    }
   ],
   "source": [
    "df_clean.isnull().sum()"
   ]
  },
  {
   "cell_type": "code",
   "execution_count": 24,
   "metadata": {},
   "outputs": [],
   "source": [
    "    pd.DataFrame(df_clean).to_csv('E:/Kaggle/Water_Table/clean_test_Pump.csv')"
   ]
  },
  {
   "cell_type": "markdown",
   "metadata": {},
   "source": []
  }
 ],
 "metadata": {
  "kernelspec": {
   "display_name": "Python 3",
   "language": "python",
   "name": "python3"
  },
  "language_info": {
   "codemirror_mode": {
    "name": "ipython",
    "version": 3
   },
   "file_extension": ".py",
   "mimetype": "text/x-python",
   "name": "python",
   "nbconvert_exporter": "python",
   "pygments_lexer": "ipython3",
   "version": "3.7.4"
  }
 },
 "nbformat": 4,
 "nbformat_minor": 2
}
