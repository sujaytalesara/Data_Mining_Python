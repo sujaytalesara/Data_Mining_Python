{
 "cells": [
  {
   "cell_type": "code",
   "execution_count": 44,
   "metadata": {},
   "outputs": [],
   "source": [
    "import pandas as pd\n",
    "import numpy as np\n",
    "from sklearn.model_selection import train_test_split\n",
    "from sklearn.model_selection import cross_val_score\n",
    "from sklearn.ensemble import RandomForestClassifier"
   ]
  },
  {
   "cell_type": "code",
   "execution_count": 35,
   "metadata": {},
   "outputs": [],
   "source": [
    "df_clean = pd.read_csv('E:/Kaggle/Water_Table/clean_Pump.csv', index_col = 0)\n",
    "df_test = pd.read_csv('E:/Kaggle/Water_Table/Test_set_values.csv', index_col = 0)"
   ]
  },
  {
   "cell_type": "code",
   "execution_count": 36,
   "metadata": {},
   "outputs": [
    {
     "name": "stdout",
     "output_type": "stream",
     "text": [
      "(59400, 25)\n",
      "(14850, 39)\n"
     ]
    }
   ],
   "source": [
    "print(df_clean.shape)\n",
    "print(df_test.shape)"
   ]
  },
  {
   "cell_type": "code",
   "execution_count": 37,
   "metadata": {},
   "outputs": [
    {
     "name": "stdout",
     "output_type": "stream",
     "text": [
      "<class 'pandas.core.frame.DataFrame'>\n",
      "Int64Index: 59400 entries, 69572 to 26348\n",
      "Data columns (total 25 columns):\n",
      "amount_tsh               59400 non-null float64\n",
      "gps_height               59400 non-null float64\n",
      "installer                59400 non-null object\n",
      "longitude                59400 non-null float64\n",
      "latitude                 59400 non-null float64\n",
      "wpt_name                 59400 non-null object\n",
      "basin                    59400 non-null object\n",
      "region_code              59400 non-null int64\n",
      "district_code            59400 non-null int64\n",
      "lga                      59400 non-null object\n",
      "population               59400 non-null float64\n",
      "public_meeting           59400 non-null object\n",
      "scheme_management        59400 non-null object\n",
      "permit                   59400 non-null object\n",
      "extraction_type          59400 non-null object\n",
      "extraction_type_class    59400 non-null object\n",
      "management               59400 non-null object\n",
      "payment_type             59400 non-null object\n",
      "water_quality            59400 non-null object\n",
      "quantity_group           59400 non-null object\n",
      "source                   59400 non-null object\n",
      "source_class             59400 non-null object\n",
      "waterpoint_type          59400 non-null object\n",
      "status_group             59400 non-null object\n",
      "operational_year         59400 non-null float64\n",
      "dtypes: float64(6), int64(2), object(17)\n",
      "memory usage: 11.8+ MB\n"
     ]
    }
   ],
   "source": [
    "df_clean.info()"
   ]
  },
  {
   "cell_type": "code",
   "execution_count": 38,
   "metadata": {},
   "outputs": [],
   "source": [
    "df_clean['installer'] = pd.factorize(df_clean['installer'])[0]\n",
    "df_clean['wpt_name'] = pd.factorize(df_clean['wpt_name'])[0]\n",
    "df_clean['basin'] = pd.factorize(df_clean['basin'])[0]\n",
    "df_clean['lga'] = pd.factorize(df_clean['lga'])[0]\n",
    "df_clean['public_meeting'] = pd.factorize(df_clean['public_meeting'])[0]\n",
    "df_clean['scheme_management'] = pd.factorize(df_clean['scheme_management'])[0]\n",
    "df_clean['extraction_type'] = pd.factorize(df_clean['extraction_type'])[0]\n",
    "df_clean['extraction_type_class'] = pd.factorize(df_clean['extraction_type_class'])[0]\n",
    "df_clean['management'] = pd.factorize(df_clean['management'])[0]\n",
    "df_clean['payment_type'] = pd.factorize(df_clean['payment_type'])[0]\n",
    "df_clean['water_quality'] = pd.factorize(df_clean['water_quality'])[0]\n",
    "df_clean['quantity_group'] = pd.factorize(df_clean['quantity_group'])[0]\n",
    "df_clean['source'] = pd.factorize(df_clean['source'])[0]\n",
    "df_clean['source_class'] = pd.factorize(df_clean['source_class'])[0]\n",
    "df_clean['waterpoint_type'] = pd.factorize(df_clean['waterpoint_type'])[0]\n",
    "df_clean['permit'] = pd.factorize(df_clean['region_code'])[0]\n",
    "\n",
    "# df_clean['district_code'] = pd.factorize(df_clean['district_code'])[0]\n",
    "\n",
    "#df_clean.district_code.head(5)"
   ]
  },
  {
   "cell_type": "code",
   "execution_count": 39,
   "metadata": {},
   "outputs": [
    {
     "data": {
      "text/html": [
       "<div>\n",
       "<style scoped>\n",
       "    .dataframe tbody tr th:only-of-type {\n",
       "        vertical-align: middle;\n",
       "    }\n",
       "\n",
       "    .dataframe tbody tr th {\n",
       "        vertical-align: top;\n",
       "    }\n",
       "\n",
       "    .dataframe thead th {\n",
       "        text-align: right;\n",
       "    }\n",
       "</style>\n",
       "<table border=\"1\" class=\"dataframe\">\n",
       "  <thead>\n",
       "    <tr style=\"text-align: right;\">\n",
       "      <th></th>\n",
       "      <th>amount_tsh</th>\n",
       "      <th>gps_height</th>\n",
       "      <th>installer</th>\n",
       "      <th>longitude</th>\n",
       "      <th>latitude</th>\n",
       "      <th>wpt_name</th>\n",
       "      <th>basin</th>\n",
       "      <th>region_code</th>\n",
       "      <th>district_code</th>\n",
       "      <th>lga</th>\n",
       "      <th>...</th>\n",
       "      <th>extraction_type_class</th>\n",
       "      <th>management</th>\n",
       "      <th>payment_type</th>\n",
       "      <th>water_quality</th>\n",
       "      <th>quantity_group</th>\n",
       "      <th>source</th>\n",
       "      <th>source_class</th>\n",
       "      <th>waterpoint_type</th>\n",
       "      <th>status_group</th>\n",
       "      <th>operational_year</th>\n",
       "    </tr>\n",
       "    <tr>\n",
       "      <th>id</th>\n",
       "      <th></th>\n",
       "      <th></th>\n",
       "      <th></th>\n",
       "      <th></th>\n",
       "      <th></th>\n",
       "      <th></th>\n",
       "      <th></th>\n",
       "      <th></th>\n",
       "      <th></th>\n",
       "      <th></th>\n",
       "      <th></th>\n",
       "      <th></th>\n",
       "      <th></th>\n",
       "      <th></th>\n",
       "      <th></th>\n",
       "      <th></th>\n",
       "      <th></th>\n",
       "      <th></th>\n",
       "      <th></th>\n",
       "      <th></th>\n",
       "      <th></th>\n",
       "    </tr>\n",
       "  </thead>\n",
       "  <tbody>\n",
       "    <tr>\n",
       "      <td>69572</td>\n",
       "      <td>0.342846</td>\n",
       "      <td>7.715030</td>\n",
       "      <td>0</td>\n",
       "      <td>34.938093</td>\n",
       "      <td>-9.856322</td>\n",
       "      <td>0</td>\n",
       "      <td>0</td>\n",
       "      <td>11</td>\n",
       "      <td>5</td>\n",
       "      <td>0</td>\n",
       "      <td>...</td>\n",
       "      <td>0</td>\n",
       "      <td>0</td>\n",
       "      <td>0</td>\n",
       "      <td>0</td>\n",
       "      <td>0</td>\n",
       "      <td>0</td>\n",
       "      <td>0</td>\n",
       "      <td>0</td>\n",
       "      <td>functional</td>\n",
       "      <td>12.0</td>\n",
       "    </tr>\n",
       "    <tr>\n",
       "      <td>8776</td>\n",
       "      <td>0.021397</td>\n",
       "      <td>7.761946</td>\n",
       "      <td>1</td>\n",
       "      <td>34.698766</td>\n",
       "      <td>-2.147466</td>\n",
       "      <td>1</td>\n",
       "      <td>1</td>\n",
       "      <td>20</td>\n",
       "      <td>2</td>\n",
       "      <td>1</td>\n",
       "      <td>...</td>\n",
       "      <td>0</td>\n",
       "      <td>1</td>\n",
       "      <td>1</td>\n",
       "      <td>0</td>\n",
       "      <td>1</td>\n",
       "      <td>1</td>\n",
       "      <td>1</td>\n",
       "      <td>0</td>\n",
       "      <td>functional</td>\n",
       "      <td>3.0</td>\n",
       "    </tr>\n",
       "    <tr>\n",
       "      <td>34310</td>\n",
       "      <td>0.001417</td>\n",
       "      <td>4.045178</td>\n",
       "      <td>2</td>\n",
       "      <td>37.460664</td>\n",
       "      <td>-3.821329</td>\n",
       "      <td>2</td>\n",
       "      <td>2</td>\n",
       "      <td>21</td>\n",
       "      <td>4</td>\n",
       "      <td>2</td>\n",
       "      <td>...</td>\n",
       "      <td>0</td>\n",
       "      <td>0</td>\n",
       "      <td>2</td>\n",
       "      <td>0</td>\n",
       "      <td>0</td>\n",
       "      <td>2</td>\n",
       "      <td>1</td>\n",
       "      <td>1</td>\n",
       "      <td>functional</td>\n",
       "      <td>4.0</td>\n",
       "    </tr>\n",
       "    <tr>\n",
       "      <td>67743</td>\n",
       "      <td>0.005729</td>\n",
       "      <td>1.840139</td>\n",
       "      <td>3</td>\n",
       "      <td>38.486161</td>\n",
       "      <td>-11.155298</td>\n",
       "      <td>3</td>\n",
       "      <td>3</td>\n",
       "      <td>90</td>\n",
       "      <td>63</td>\n",
       "      <td>3</td>\n",
       "      <td>...</td>\n",
       "      <td>1</td>\n",
       "      <td>0</td>\n",
       "      <td>1</td>\n",
       "      <td>0</td>\n",
       "      <td>2</td>\n",
       "      <td>3</td>\n",
       "      <td>0</td>\n",
       "      <td>1</td>\n",
       "      <td>non functional</td>\n",
       "      <td>27.0</td>\n",
       "    </tr>\n",
       "    <tr>\n",
       "      <td>19728</td>\n",
       "      <td>0.079573</td>\n",
       "      <td>7.729288</td>\n",
       "      <td>4</td>\n",
       "      <td>31.130847</td>\n",
       "      <td>-1.825359</td>\n",
       "      <td>4</td>\n",
       "      <td>1</td>\n",
       "      <td>18</td>\n",
       "      <td>1</td>\n",
       "      <td>4</td>\n",
       "      <td>...</td>\n",
       "      <td>0</td>\n",
       "      <td>2</td>\n",
       "      <td>1</td>\n",
       "      <td>0</td>\n",
       "      <td>3</td>\n",
       "      <td>1</td>\n",
       "      <td>1</td>\n",
       "      <td>0</td>\n",
       "      <td>functional</td>\n",
       "      <td>11.0</td>\n",
       "    </tr>\n",
       "  </tbody>\n",
       "</table>\n",
       "<p>5 rows × 25 columns</p>\n",
       "</div>"
      ],
      "text/plain": [
       "       amount_tsh  gps_height  installer  longitude   latitude  wpt_name  \\\n",
       "id                                                                         \n",
       "69572    0.342846    7.715030          0  34.938093  -9.856322         0   \n",
       "8776     0.021397    7.761946          1  34.698766  -2.147466         1   \n",
       "34310    0.001417    4.045178          2  37.460664  -3.821329         2   \n",
       "67743    0.005729    1.840139          3  38.486161 -11.155298         3   \n",
       "19728    0.079573    7.729288          4  31.130847  -1.825359         4   \n",
       "\n",
       "       basin  region_code  district_code  lga  ...  extraction_type_class  \\\n",
       "id                                             ...                          \n",
       "69572      0           11              5    0  ...                      0   \n",
       "8776       1           20              2    1  ...                      0   \n",
       "34310      2           21              4    2  ...                      0   \n",
       "67743      3           90             63    3  ...                      1   \n",
       "19728      1           18              1    4  ...                      0   \n",
       "\n",
       "       management  payment_type  water_quality  quantity_group  source  \\\n",
       "id                                                                       \n",
       "69572           0             0              0               0       0   \n",
       "8776            1             1              0               1       1   \n",
       "34310           0             2              0               0       2   \n",
       "67743           0             1              0               2       3   \n",
       "19728           2             1              0               3       1   \n",
       "\n",
       "       source_class  waterpoint_type    status_group  operational_year  \n",
       "id                                                                      \n",
       "69572             0                0      functional              12.0  \n",
       "8776              1                0      functional               3.0  \n",
       "34310             1                1      functional               4.0  \n",
       "67743             0                1  non functional              27.0  \n",
       "19728             1                0      functional              11.0  \n",
       "\n",
       "[5 rows x 25 columns]"
      ]
     },
     "execution_count": 39,
     "metadata": {},
     "output_type": "execute_result"
    }
   ],
   "source": [
    "df_clean.head()"
   ]
  },
  {
   "cell_type": "code",
   "execution_count": 40,
   "metadata": {},
   "outputs": [],
   "source": [
    "X_train, y_train, X_test , y_test = train_test_split((df_clean.drop(['status_group'],axis = 1)), (df_clean['status_group']), test_size = 1/10, random_state = 454)"
   ]
  },
  {
   "cell_type": "code",
   "execution_count": 47,
   "metadata": {},
   "outputs": [
    {
     "name": "stdout",
     "output_type": "stream",
     "text": [
      "(53460, 24)\n",
      "(53460,)\n",
      "(5940, 24)\n",
      "(5940,)\n"
     ]
    }
   ],
   "source": [
    "print (X_train.shape)\n",
    "print (X_test.shape)\n",
    "print (y_train.shape)\n",
    "print (y_test.shape)"
   ]
  },
  {
   "cell_type": "markdown",
   "metadata": {},
   "source": [
    "### Random Forest Model "
   ]
  },
  {
   "cell_type": "code",
   "execution_count": 45,
   "metadata": {},
   "outputs": [],
   "source": [
    "model_RF = RandomForestClassifier(n_estimators = 1000)"
   ]
  },
  {
   "cell_type": "code",
   "execution_count": 48,
   "metadata": {},
   "outputs": [
    {
     "data": {
      "text/plain": [
       "array([0.80024689, 0.8048712 , 0.80431001])"
      ]
     },
     "execution_count": 48,
     "metadata": {},
     "output_type": "execute_result"
    }
   ],
   "source": [
    "cross_val_score(model_RF, X_train, X_test, cv = 3)"
   ]
  },
  {
   "cell_type": "code",
   "execution_count": 49,
   "metadata": {},
   "outputs": [
    {
     "name": "stdout",
     "output_type": "stream",
     "text": [
      "[0.02960463 0.06355275 0.03910427 0.11995516 0.11854201 0.08875351\n",
      " 0.0146556  0.01557006 0.02002981 0.02779218 0.04473925 0.01036197\n",
      " 0.01474456 0.01954278 0.03727811 0.03666033 0.01568905 0.02871842\n",
      " 0.01293514 0.1043644  0.02422693 0.00858635 0.04382007 0.06077267]\n"
     ]
    }
   ],
   "source": [
    "model_RF.fit(X_train, X_test)\n",
    "importance = model_RF.feature_importances_\n"
   ]
  },
  {
   "cell_type": "code",
   "execution_count": 55,
   "metadata": {},
   "outputs": [
    {
     "name": "stdout",
     "output_type": "stream",
     "text": [
      "[ 2.96046255  6.35527538  3.91042681 11.99551608 11.85420143  8.87535104\n",
      "  1.46555991  1.55700551  2.00298148  2.77921762  4.47392487  1.03619695\n",
      "  1.47445648  1.95427826  3.72781102  3.6660331   1.56890469  2.87184192\n",
      "  1.29351353 10.43643954  2.42269295  0.8586346   4.38200733  6.07726696]\n"
     ]
    }
   ],
   "source": [
    "print(importance * 100)"
   ]
  },
  {
   "cell_type": "code",
   "execution_count": null,
   "metadata": {},
   "outputs": [],
   "source": []
  },
  {
   "cell_type": "code",
   "execution_count": null,
   "metadata": {},
   "outputs": [],
   "source": []
  },
  {
   "cell_type": "code",
   "execution_count": null,
   "metadata": {},
   "outputs": [],
   "source": []
  },
  {
   "cell_type": "code",
   "execution_count": null,
   "metadata": {},
   "outputs": [],
   "source": []
  },
  {
   "cell_type": "code",
   "execution_count": null,
   "metadata": {},
   "outputs": [],
   "source": []
  },
  {
   "cell_type": "code",
   "execution_count": null,
   "metadata": {},
   "outputs": [],
   "source": []
  },
  {
   "cell_type": "code",
   "execution_count": null,
   "metadata": {},
   "outputs": [],
   "source": []
  },
  {
   "cell_type": "code",
   "execution_count": null,
   "metadata": {},
   "outputs": [],
   "source": []
  },
  {
   "cell_type": "code",
   "execution_count": null,
   "metadata": {},
   "outputs": [],
   "source": []
  },
  {
   "cell_type": "code",
   "execution_count": null,
   "metadata": {},
   "outputs": [],
   "source": []
  }
 ],
 "metadata": {
  "kernelspec": {
   "display_name": "Python 3",
   "language": "python",
   "name": "python3"
  },
  "language_info": {
   "codemirror_mode": {
    "name": "ipython",
    "version": 3
   },
   "file_extension": ".py",
   "mimetype": "text/x-python",
   "name": "python",
   "nbconvert_exporter": "python",
   "pygments_lexer": "ipython3",
   "version": "3.7.4"
  }
 },
 "nbformat": 4,
 "nbformat_minor": 2
}
